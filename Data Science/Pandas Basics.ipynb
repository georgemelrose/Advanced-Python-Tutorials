{
 "cells": [
  {
   "cell_type": "markdown",
   "metadata": {},
   "source": [
    "# Pandas Basics"
   ]
  },
  {
   "cell_type": "markdown",
   "metadata": {},
   "source": [
    "## Pandas DataFrames"
   ]
  },
  {
   "cell_type": "markdown",
   "metadata": {},
   "source": [
    "Pandas is built on the Numpy package and its key data structure if the DataFrame. DataFrames allow you to store and manipulate tabular data in rows of observations and columns of variables. \n",
    "\n",
    "One way to create a DataFrame is to use a dictionary."
   ]
  },
  {
   "cell_type": "code",
   "execution_count": 1,
   "metadata": {},
   "outputs": [
    {
     "name": "stdout",
     "output_type": "stream",
     "text": [
      "        country    capital    area  population\n",
      "0        Brazil   Brasilia   8.516      200.40\n",
      "1        Russia     Moscow  17.100      143.50\n",
      "2         India  New Dehli   3.286     1252.00\n",
      "3         China    Beijing   9.597     1357.00\n",
      "4  South Africa   Pretoria   1.221       52.98\n"
     ]
    }
   ],
   "source": [
    "dict = {\"country\": [\"Brazil\", \"Russia\", \"India\", \"China\", \"South Africa\"],\n",
    "       \"capital\": [\"Brasilia\", \"Moscow\", \"New Dehli\", \"Beijing\", \"Pretoria\"],\n",
    "       \"area\": [8.516, 17.10, 3.286, 9.597, 1.221],\n",
    "       \"population\": [200.4, 143.5, 1252, 1357, 52.98] }\n",
    "\n",
    "import pandas as pd\n",
    "brics = pd.DataFrame(dict)\n",
    "print(brics)"
   ]
  },
  {
   "cell_type": "markdown",
   "metadata": {},
   "source": [
    "As one can see the the brics df, Pandas has assigned a key for each country as the numerical values 0 to 4. If you would like different index values like, the two letter country code, that can be easily done as well."
   ]
  },
  {
   "cell_type": "code",
   "execution_count": 2,
   "metadata": {},
   "outputs": [
    {
     "name": "stdout",
     "output_type": "stream",
     "text": [
      "         country    capital    area  population\n",
      "BR        Brazil   Brasilia   8.516      200.40\n",
      "RU        Russia     Moscow  17.100      143.50\n",
      "IN         India  New Dehli   3.286     1252.00\n",
      "CH         China    Beijing   9.597     1357.00\n",
      "SA  South Africa   Pretoria   1.221       52.98\n"
     ]
    }
   ],
   "source": [
    "# Set the index for brics\n",
    "brics.index = [\"BR\", \"RU\", \"IN\", \"CH\", \"SA\"]\n",
    "\n",
    "# Print out brics with new index values\n",
    "print(brics)"
   ]
  },
  {
   "cell_type": "markdown",
   "metadata": {},
   "source": [
    "Another way to create a DataFrame is importing a csv file using Pandas."
   ]
  },
  {
   "cell_type": "code",
   "execution_count": 12,
   "metadata": {},
   "outputs": [
    {
     "name": "stdout",
     "output_type": "stream",
     "text": [
      "            date   id                             name  y_items  \\\n",
      "0     2016-02-01  02D               NHS VALE ROYAL CCG       53   \n",
      "1     2016-02-01  05J  NHS REDDITCH AND BROMSGROVE CCG        1   \n",
      "2     2016-02-01  10C             NHS SURREY HEATH CCG     2445   \n",
      "3     2016-02-01  02G          NHS WEST LANCASHIRE CCG     3058   \n",
      "4     2016-02-01  02Q                NHS BASSETLAW CCG     3473   \n",
      "...          ...  ...                              ...      ...   \n",
      "8123  2021-01-01  15N                    NHS DEVON CCG    17778   \n",
      "8124  2021-01-01  15E  NHS BIRMINGHAM AND SOLIHULL CCG    20704   \n",
      "8125  2021-01-01  36L        NHS SOUTH WEST LONDON CCG    21088   \n",
      "8126  2021-01-01  72Q        NHS SOUTH EAST LONDON CCG    23464   \n",
      "8127  2021-01-01  91Q          NHS KENT AND MEDWAY CCG    29004   \n",
      "\n",
      "      y_actual_cost  x_items  x_actual_cost  \n",
      "0            185.56        0              0  \n",
      "1              1.70        0              0  \n",
      "2           7624.29        0              0  \n",
      "3          10272.31        0              0  \n",
      "4           9287.69        0              0  \n",
      "...             ...      ...            ...  \n",
      "8123       52749.86        0              0  \n",
      "8124       57009.80        0              0  \n",
      "8125       54922.16        0              0  \n",
      "8126       67455.56        0              0  \n",
      "8127       76874.62        0              0  \n",
      "\n",
      "[8128 rows x 7 columns]\n"
     ]
    }
   ],
   "source": [
    "# Import a csv file# \n",
    "df = pd.read_csv('items for penicillins per.csv')\n",
    "\n",
    "\n",
    "print(df)"
   ]
  },
  {
   "cell_type": "code",
   "execution_count": 19,
   "metadata": {},
   "outputs": [
    {
     "name": "stdout",
     "output_type": "stream",
     "text": [
      "            date   id                             name  y_items  y_actual_cost\n",
      "0     2016-02-01  02D               NHS VALE ROYAL CCG       53         185.56\n",
      "1     2016-02-01  05J  NHS REDDITCH AND BROMSGROVE CCG        1           1.70\n",
      "2     2016-02-01  10C             NHS SURREY HEATH CCG     2445        7624.29\n",
      "3     2016-02-01  02G          NHS WEST LANCASHIRE CCG     3058       10272.31\n",
      "4     2016-02-01  02Q                NHS BASSETLAW CCG     3473        9287.69\n",
      "...          ...  ...                              ...      ...            ...\n",
      "8123  2021-01-01  15N                    NHS DEVON CCG    17778       52749.86\n",
      "8124  2021-01-01  15E  NHS BIRMINGHAM AND SOLIHULL CCG    20704       57009.80\n",
      "8125  2021-01-01  36L        NHS SOUTH WEST LONDON CCG    21088       54922.16\n",
      "8126  2021-01-01  72Q        NHS SOUTH EAST LONDON CCG    23464       67455.56\n",
      "8127  2021-01-01  91Q          NHS KENT AND MEDWAY CCG    29004       76874.62\n",
      "\n",
      "[8128 rows x 5 columns]\n"
     ]
    }
   ],
   "source": [
    "print(df)"
   ]
  },
  {
   "cell_type": "markdown",
   "metadata": {},
   "source": [
    "## Indexing DataFrames "
   ]
  },
  {
   "cell_type": "markdown",
   "metadata": {},
   "source": [
    "There are several ways to index a Pandas DataFrame. One of the easiest ways to do this is by using square bracket notation.\n",
    "\n",
    "In the example below, you can use square brackets to select one column of the penicillin_drugs DataFrame. You can either use a single bracket or a double bracket. The single bracket will output a Pandas Series, while a double bracket will output a Pandas DataFrame.\n",
    "\n",
    "index_col is 0 instead of None (take first column as index by default)."
   ]
  },
  {
   "cell_type": "code",
   "execution_count": 21,
   "metadata": {},
   "outputs": [
    {
     "name": "stdout",
     "output_type": "stream",
     "text": [
      "             id                             name  y_items  y_actual_cost  \\\n",
      "date                                                                       \n",
      "2016-02-01  02D               NHS VALE ROYAL CCG       53         185.56   \n",
      "2016-02-01  05J  NHS REDDITCH AND BROMSGROVE CCG        1           1.70   \n",
      "2016-02-01  10C             NHS SURREY HEATH CCG     2445        7624.29   \n",
      "2016-02-01  02G          NHS WEST LANCASHIRE CCG     3058       10272.31   \n",
      "2016-02-01  02Q                NHS BASSETLAW CCG     3473        9287.69   \n",
      "...         ...                              ...      ...            ...   \n",
      "2021-01-01  15N                    NHS DEVON CCG    17778       52749.86   \n",
      "2021-01-01  15E  NHS BIRMINGHAM AND SOLIHULL CCG    20704       57009.80   \n",
      "2021-01-01  36L        NHS SOUTH WEST LONDON CCG    21088       54922.16   \n",
      "2021-01-01  72Q        NHS SOUTH EAST LONDON CCG    23464       67455.56   \n",
      "2021-01-01  91Q          NHS KENT AND MEDWAY CCG    29004       76874.62   \n",
      "\n",
      "            x_items  x_actual_cost  \n",
      "date                                \n",
      "2016-02-01        0              0  \n",
      "2016-02-01        0              0  \n",
      "2016-02-01        0              0  \n",
      "2016-02-01        0              0  \n",
      "2016-02-01        0              0  \n",
      "...             ...            ...  \n",
      "2021-01-01        0              0  \n",
      "2021-01-01        0              0  \n",
      "2021-01-01        0              0  \n",
      "2021-01-01        0              0  \n",
      "2021-01-01        0              0  \n",
      "\n",
      "[8128 rows x 6 columns]\n"
     ]
    }
   ],
   "source": [
    "penicillin = pd.read_csv('items for penicillins per.csv', index_col = 0)\n",
    "\n",
    "print(penicillin)"
   ]
  },
  {
   "cell_type": "code",
   "execution_count": 22,
   "metadata": {},
   "outputs": [
    {
     "name": "stdout",
     "output_type": "stream",
     "text": [
      "date\n",
      "2016-02-01    02D\n",
      "2016-02-01    05J\n",
      "2016-02-01    10C\n",
      "2016-02-01    02G\n",
      "2016-02-01    02Q\n",
      "             ... \n",
      "2021-01-01    15N\n",
      "2021-01-01    15E\n",
      "2021-01-01    36L\n",
      "2021-01-01    72Q\n",
      "2021-01-01    91Q\n",
      "Name: id, Length: 8128, dtype: object\n"
     ]
    }
   ],
   "source": [
    "print(penicillin['id'])"
   ]
  },
  {
   "cell_type": "code",
   "execution_count": 24,
   "metadata": {},
   "outputs": [
    {
     "name": "stdout",
     "output_type": "stream",
     "text": [
      "             id                             name\n",
      "date                                            \n",
      "2016-02-01  02D               NHS VALE ROYAL CCG\n",
      "2016-02-01  05J  NHS REDDITCH AND BROMSGROVE CCG\n",
      "2016-02-01  10C             NHS SURREY HEATH CCG\n",
      "2016-02-01  02G          NHS WEST LANCASHIRE CCG\n",
      "2016-02-01  02Q                NHS BASSETLAW CCG\n",
      "...         ...                              ...\n",
      "2021-01-01  15N                    NHS DEVON CCG\n",
      "2021-01-01  15E  NHS BIRMINGHAM AND SOLIHULL CCG\n",
      "2021-01-01  36L        NHS SOUTH WEST LONDON CCG\n",
      "2021-01-01  72Q        NHS SOUTH EAST LONDON CCG\n",
      "2021-01-01  91Q          NHS KENT AND MEDWAY CCG\n",
      "\n",
      "[8128 rows x 2 columns]\n"
     ]
    }
   ],
   "source": [
    "print(penicillin[['id','name']])"
   ]
  },
  {
   "cell_type": "markdown",
   "metadata": {},
   "source": [
    "Square brackets can also be used to access observations (rows) from a DataFrame. For example:"
   ]
  },
  {
   "cell_type": "code",
   "execution_count": 26,
   "metadata": {},
   "outputs": [
    {
     "name": "stdout",
     "output_type": "stream",
     "text": [
      "             id                             name  y_items  y_actual_cost  \\\n",
      "date                                                                       \n",
      "2016-02-01  02D               NHS VALE ROYAL CCG       53         185.56   \n",
      "2016-02-01  05J  NHS REDDITCH AND BROMSGROVE CCG        1           1.70   \n",
      "2016-02-01  10C             NHS SURREY HEATH CCG     2445        7624.29   \n",
      "2016-02-01  02G          NHS WEST LANCASHIRE CCG     3058       10272.31   \n",
      "\n",
      "            x_items  x_actual_cost  \n",
      "date                                \n",
      "2016-02-01        0              0  \n",
      "2016-02-01        0              0  \n",
      "2016-02-01        0              0  \n",
      "2016-02-01        0              0  \n"
     ]
    }
   ],
   "source": [
    "# Print out first 4 observations\n",
    "print(penicillin[0:4])"
   ]
  },
  {
   "cell_type": "code",
   "execution_count": 27,
   "metadata": {},
   "outputs": [
    {
     "name": "stdout",
     "output_type": "stream",
     "text": [
      "             id                                  name  y_items  y_actual_cost  \\\n",
      "date                                                                            \n",
      "2016-02-01  02Q                     NHS BASSETLAW CCG     3473        9287.69   \n",
      "2016-02-01  09A  NHS CENTRAL LONDON (WESTMINSTER) CCG     3637       11704.73   \n",
      "\n",
      "            x_items  x_actual_cost  \n",
      "date                                \n",
      "2016-02-01        0              0  \n",
      "2016-02-01        0              0  \n"
     ]
    }
   ],
   "source": [
    "# Print out fifth and sixth observation\n",
    "print(penicillin[4:6])"
   ]
  },
  {
   "cell_type": "markdown",
   "metadata": {},
   "source": [
    "One can also use loc and iloc to perform pretty much any data selection operation. 'loc' is label-based, meaning you have to specify rows and columns based on their row and column labels.\n",
    "\n",
    "'iloc' is integer index based, so you've to specify rows and columns by their integer index like in the above section."
   ]
  },
  {
   "cell_type": "code",
   "execution_count": 28,
   "metadata": {},
   "outputs": [
    {
     "name": "stdout",
     "output_type": "stream",
     "text": [
      "id                                10C\n",
      "name             NHS SURREY HEATH CCG\n",
      "y_items                          2445\n",
      "y_actual_cost                 7624.29\n",
      "x_items                             0\n",
      "x_actual_cost                       0\n",
      "Name: 2016-02-01, dtype: object\n"
     ]
    }
   ],
   "source": [
    "# Print out observation for Surrey Heath # \n",
    "print(penicillin.iloc[2])"
   ]
  },
  {
   "cell_type": "code",
   "execution_count": 36,
   "metadata": {},
   "outputs": [
    {
     "name": "stdout",
     "output_type": "stream",
     "text": [
      "             id                             name  y_items  y_actual_cost  \\\n",
      "date                                                                       \n",
      "2016-02-01  02D               NHS VALE ROYAL CCG       53         185.56   \n",
      "2016-02-01  05J  NHS REDDITCH AND BROMSGROVE CCG        1           1.70   \n",
      "2016-02-01  10C             NHS SURREY HEATH CCG     2445        7624.29   \n",
      "2016-02-01  02G          NHS WEST LANCASHIRE CCG     3058       10272.31   \n",
      "2016-02-01  02Q                NHS BASSETLAW CCG     3473        9287.69   \n",
      "...         ...                              ...      ...            ...   \n",
      "2016-02-01  93C     NHS NORTH CENTRAL LONDON CCG    34278      124324.54   \n",
      "2016-02-01  15E  NHS BIRMINGHAM AND SOLIHULL CCG    37547      128799.97   \n",
      "2016-02-01  36L        NHS SOUTH WEST LONDON CCG    40592      136044.77   \n",
      "2016-02-01  72Q        NHS SOUTH EAST LONDON CCG    47031      170830.78   \n",
      "2016-02-01  91Q          NHS KENT AND MEDWAY CCG    57300      170015.79   \n",
      "\n",
      "            x_items  x_actual_cost  \n",
      "date                                \n",
      "2016-02-01        0              0  \n",
      "2016-02-01        0              0  \n",
      "2016-02-01        0              0  \n",
      "2016-02-01        0              0  \n",
      "2016-02-01        0              0  \n",
      "...             ...            ...  \n",
      "2016-02-01        0              0  \n",
      "2016-02-01        0              0  \n",
      "2016-02-01        0              0  \n",
      "2016-02-01        0              0  \n",
      "2016-02-01        0              0  \n",
      "\n",
      "[137 rows x 6 columns]\n"
     ]
    }
   ],
   "source": [
    "# Print out observations for \n",
    "print(penicillin.loc[['2016-02-01']])"
   ]
  }
 ],
 "metadata": {
  "kernelspec": {
   "display_name": "Python 3",
   "language": "python",
   "name": "python3"
  },
  "language_info": {
   "codemirror_mode": {
    "name": "ipython",
    "version": 3
   },
   "file_extension": ".py",
   "mimetype": "text/x-python",
   "name": "python",
   "nbconvert_exporter": "python",
   "pygments_lexer": "ipython3",
   "version": "3.8.5"
  }
 },
 "nbformat": 4,
 "nbformat_minor": 4
}
