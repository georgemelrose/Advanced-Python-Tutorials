{
 "cells": [
  {
   "cell_type": "markdown",
   "metadata": {},
   "source": [
    "# Lists"
   ]
  },
  {
   "cell_type": "markdown",
   "metadata": {},
   "source": [
    "Lists are similar to arrays. Arrays are special variables that can hold more than one value at a time. Lists can contain any type of variable, and they can contain as many variables as one wants. "
   ]
  },
  {
   "cell_type": "code",
   "execution_count": 2,
   "metadata": {},
   "outputs": [
    {
     "name": "stdout",
     "output_type": "stream",
     "text": [
      "1\n",
      "3\n",
      "5\n",
      "7.5\n",
      "CYRIA\n"
     ]
    }
   ],
   "source": [
    "mylist = []\n",
    "mylist.append(1)\n",
    "mylist.append(3)\n",
    "mylist.append(5)\n",
    "mylist.append(7.5)\n",
    "mylist.append(\"CYRIA\")\n",
    "\n",
    "for x in mylist:\n",
    "    print(x)"
   ]
  },
  {
   "cell_type": "markdown",
   "metadata": {},
   "source": [
    "Trying to find something (an \"index\") in the list that doesn't exist generates an exception (an error).\n"
   ]
  },
  {
   "cell_type": "code",
   "execution_count": 8,
   "metadata": {},
   "outputs": [
    {
     "name": "stdout",
     "output_type": "stream",
     "text": [
      "5\n",
      "3\n"
     ]
    }
   ],
   "source": [
    "\n",
    "del mylist[-1] \n",
    "\n",
    "del mylist[0] \n",
    "\n",
    "print(mylist[-1])\n",
    "\n",
    "print(mylist[0])\n"
   ]
  },
  {
   "cell_type": "code",
   "execution_count": 12,
   "metadata": {},
   "outputs": [
    {
     "name": "stdout",
     "output_type": "stream",
     "text": [
      "a\n",
      "b\n",
      "c\n",
      "e\n",
      "g\n",
      "i\n"
     ]
    }
   ],
   "source": [
    "my_new_list = ['a','b','c','e','g','i']\n",
    "\n",
    "for x in my_new_list:\n",
    "    print(x)\n",
    "    "
   ]
  },
  {
   "cell_type": "markdown",
   "metadata": {},
   "source": [
    "## Exercise"
   ]
  },
  {
   "cell_type": "markdown",
   "metadata": {},
   "source": [
    "In this exercise, you will need to add numbers and strings to the correct lists using the \"append\" list method. You must add the numbers 1,2, and 3 to the \"numbers\" list, and the words 'hello' and 'world' to the strings variable.\n",
    "\n",
    "You will also have to fill in the variable second_name with the second name in the names list, using the brackets operator []. Note that the index is zero-based, so if you want to access the second item in the list, its index will be 1."
   ]
  },
  {
   "cell_type": "code",
   "execution_count": 9,
   "metadata": {},
   "outputs": [
    {
     "name": "stdout",
     "output_type": "stream",
     "text": [
      "Eric\n",
      "hello\n",
      "4\n",
      "5\n",
      "6\n",
      "blahem\n",
      "['Eric', 'Jessica', 'John']\n"
     ]
    },
    {
     "data": {
      "text/plain": [
       "[1, 2, 3, 6, 5]"
      ]
     },
     "execution_count": 9,
     "metadata": {},
     "output_type": "execute_result"
    }
   ],
   "source": [
    "numbers = []\n",
    "strings = []\n",
    "names = [\"John\", \"Eric\", \"Jessica\"]\n",
    "numberstwo = [4,5,6]\n",
    "\n",
    "numbers.append(1)\n",
    "numbers.append(2)\n",
    "numbers.append(3)\n",
    "\n",
    "strings.append(\"hello\")\n",
    "strings.append(\"world\")\n",
    "\n",
    "second_name = names[1]\n",
    "first_name = strings[0]\n",
    "\n",
    "print(second_name)\n",
    "print(first_name)\n",
    "\n",
    "for x in numberstwo:\n",
    "    print(x)\n",
    "\n",
    "if \"Limmy\" not in names:\n",
    "    print(\"blahem\")\n",
    "\n",
    "names.sort()\n",
    "print(names)\n",
    "\n",
    "if 4 in numberstwo:\n",
    "    numberstwo.remove(4)\n",
    "numberstwo\n",
    "\n",
    "numberstwo.reverse()\n",
    "numberstwo\n",
    "\n",
    "numberstwo.count(5)\n",
    "\n",
    "len(names)\n",
    "\n",
    "from random import shuffle\n",
    "shuffle(names)\n",
    "\n",
    "names\n",
    "\n",
    "numberstwo\n",
    "\n",
    "even = numberstwo[::2]\n",
    "even\n",
    "\n",
    "numbers\n",
    "\n",
    "joined = numbers + numberstwo\n",
    "joined"
   ]
  }
 ],
 "metadata": {
  "kernelspec": {
   "display_name": "Python 3",
   "language": "python",
   "name": "python3"
  },
  "language_info": {
   "codemirror_mode": {
    "name": "ipython",
    "version": 3
   },
   "file_extension": ".py",
   "mimetype": "text/x-python",
   "name": "python",
   "nbconvert_exporter": "python",
   "pygments_lexer": "ipython3",
   "version": "3.8.5"
  }
 },
 "nbformat": 4,
 "nbformat_minor": 4
}
