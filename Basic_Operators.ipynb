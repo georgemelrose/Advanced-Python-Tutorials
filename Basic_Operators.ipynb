{
 "cells": [
  {
   "cell_type": "markdown",
   "metadata": {},
   "source": [
    "# Basic Operators\n"
   ]
  },
  {
   "cell_type": "markdown",
   "metadata": {},
   "source": [
    "## Arithmetic Operators"
   ]
  },
  {
   "cell_type": "markdown",
   "metadata": {},
   "source": [
    "One can use operators with numbers as with most other programming languages."
   ]
  },
  {
   "cell_type": "code",
   "execution_count": 3,
   "metadata": {},
   "outputs": [
    {
     "name": "stdout",
     "output_type": "stream",
     "text": [
      "12.8125\n",
      "<class 'float'>\n"
     ]
    }
   ],
   "source": [
    "number = 2 + 8 + 9 / 3.2\n",
    "print (number)\n",
    "print(type(number))\n"
   ]
  },
  {
   "cell_type": "code",
   "execution_count": 14,
   "metadata": {},
   "outputs": [
    {
     "name": "stdout",
     "output_type": "stream",
     "text": [
      "21\n",
      "100.0\n",
      "big\n",
      "inbetween\n",
      "not true\n"
     ]
    }
   ],
   "source": [
    "number21 = 41 - 20\n",
    "print(number21)\n",
    "\n",
    "number100 = 1000 / 10\n",
    "print(number100)\n",
    "\n",
    "if 2 > 1:\n",
    "    print(\"big\")\n",
    "    \n",
    "if 3 < 4 < 5:\n",
    "    print(\"inbetween\")\n",
    "\n",
    "2 ^ 1\n",
    "\n",
    "numberstwo = [4,5,6]\n",
    "\n",
    "if 21 not in numberstwo: \n",
    "    print(\"not true\")"
   ]
  },
  {
   "cell_type": "markdown",
   "metadata": {},
   "source": [
    "Another operator is the modulo (%) operator, which returns the integer remainder of the division."
   ]
  },
  {
   "cell_type": "code",
   "execution_count": 5,
   "metadata": {},
   "outputs": [
    {
     "name": "stdout",
     "output_type": "stream",
     "text": [
      "1\n",
      "<class 'int'>\n"
     ]
    }
   ],
   "source": [
    "remainder = 33 % 2\n",
    "print(remainder)\n",
    "print(type(remainder))\n"
   ]
  },
  {
   "cell_type": "markdown",
   "metadata": {},
   "source": [
    "Using two multiplication symbols (**) makes a 'to the power of' relationship. "
   ]
  },
  {
   "cell_type": "code",
   "execution_count": 7,
   "metadata": {},
   "outputs": [
    {
     "name": "stdout",
     "output_type": "stream",
     "text": [
      "10000\n",
      "64\n"
     ]
    }
   ],
   "source": [
    "sqaured = 100 ** 2\n",
    "cubed = 4 ** 3\n",
    "print(sqaured)\n",
    "print(cubed)"
   ]
  },
  {
   "cell_type": "markdown",
   "metadata": {},
   "source": [
    "## Using Operators with Strings"
   ]
  },
  {
   "cell_type": "markdown",
   "metadata": {},
   "source": [
    "One can concatenate strings using the addition operator:"
   ]
  },
  {
   "cell_type": "code",
   "execution_count": 9,
   "metadata": {},
   "outputs": [
    {
     "name": "stdout",
     "output_type": "stream",
     "text": [
      "Many Saints of Newark\n"
     ]
    }
   ],
   "source": [
    "ManySaintsofNewark = \"Many\" + \" \" + \"Saints\" + \" \" + \"of\" + \" \" + \"Newark\"\n",
    "print(ManySaintsofNewark)"
   ]
  },
  {
   "cell_type": "markdown",
   "metadata": {},
   "source": [
    "Python can also multiply strings to form a string with a repeating sequence:"
   ]
  },
  {
   "cell_type": "code",
   "execution_count": 10,
   "metadata": {},
   "outputs": [
    {
     "name": "stdout",
     "output_type": "stream",
     "text": [
      "atcgatcgatcgatcgatcgatcgatcgatcgatcgatcgatcgatcgatcgatcgatcgatcgatcgatcgatcgatcgatcgatcgatcgatcgatcgatcgatcgatcgatcgatcgatcgatcgatcgatcgatcgatcgatcgatcgatcgatcgatcgatcgatcgatcgatcgatcgatcgatcgatcgatcgatcgatcgatcgatcgatcgatcgatcgatcgatcgatcgatcgatcgatcgatcgatcgatcgatcgatcgatcgatcgatcgatcgatcgatcgatcgatcgatcgatcgatcgatcgatcgatcgatcgatcgatcgatcgatcgatcgatcgatcgatcgatcgatcgatcgatcgatcgatcgatcgatcgatcg\n"
     ]
    }
   ],
   "source": [
    "ATCG = \"atcg\" * 100\n",
    "print(ATCG)"
   ]
  },
  {
   "cell_type": "code",
   "execution_count": 45,
   "metadata": {},
   "outputs": [
    {
     "name": "stdout",
     "output_type": "stream",
     "text": [
      "hi mate hi mate hi mate \n",
      "blahem\n",
      "01\n",
      "blahem\n",
      "tyvm\n",
      "foo,bar\n",
      "foo ['bar']\n",
      "Hi mate hi mate hi mate  Hi mate hi mate hi mate  Hi mate hi mate hi mate \n"
     ]
    }
   ],
   "source": [
    "greeting =(\"hi\" + \" \" + \"mate\" + \" \")* 3\n",
    "print(greeting)\n",
    "len(greeting)\n",
    "\n",
    "if \"hi\" in greeting:\n",
    "    print(\"blahem\")\n",
    "    \n",
    "digit_string = \"0\" + \"1\"\n",
    "print(digit_string)\n",
    "\n",
    "if digit_string.isdigit():\n",
    "    print(\"blahem\")\n",
    "    \n",
    "if \"hi\" < greeting:\n",
    "    print(\"tyvm\")\n",
    "\n",
    "print(\",\".join([\"foo\",\"bar\"]))\n",
    "\n",
    "print(\"foo\",\"bar\".split(\",\"))\n",
    "\n",
    "print(\" \".join([greeting.capitalize() for x in \"yo yo yo\".split()]))"
   ]
  },
  {
   "cell_type": "code",
   "execution_count": 51,
   "metadata": {},
   "outputs": [
    {
     "name": "stdout",
     "output_type": "stream",
     "text": [
      "123\n"
     ]
    },
    {
     "data": {
      "text/plain": [
       "0"
      ]
     },
     "execution_count": 51,
     "metadata": {},
     "output_type": "execute_result"
    }
   ],
   "source": [
    "number = 123\n",
    "print(\"{number}\".format(number=number))\n",
    "\n",
    "digit_string.find(\"0\")"
   ]
  },
  {
   "cell_type": "code",
   "execution_count": 12,
   "metadata": {},
   "outputs": [
    {
     "ename": "AttributeError",
     "evalue": "'str' object has no attribute 'substring'",
     "output_type": "error",
     "traceback": [
      "\u001b[1;31m---------------------------------------------------------------------------\u001b[0m",
      "\u001b[1;31mAttributeError\u001b[0m                            Traceback (most recent call last)",
      "\u001b[1;32m<ipython-input-12-85005cba09fe>\u001b[0m in \u001b[0;36m<module>\u001b[1;34m\u001b[0m\n\u001b[1;32m----> 1\u001b[1;33m \u001b[0mgreeting_sub\u001b[0m \u001b[1;33m=\u001b[0m \u001b[0mgreeting\u001b[0m\u001b[1;33m.\u001b[0m\u001b[0msubstring\u001b[0m\u001b[1;33m(\u001b[0m\u001b[1;36m2\u001b[0m\u001b[1;33m,\u001b[0m\u001b[1;36m3\u001b[0m\u001b[1;33m)\u001b[0m\u001b[1;33m\u001b[0m\u001b[1;33m\u001b[0m\u001b[0m\n\u001b[0m",
      "\u001b[1;31mAttributeError\u001b[0m: 'str' object has no attribute 'substring'"
     ]
    }
   ],
   "source": [
    "greeting_sub = greeting.substring(2,3)"
   ]
  },
  {
   "cell_type": "markdown",
   "metadata": {},
   "source": [
    "## Using Operators with Lists"
   ]
  },
  {
   "cell_type": "markdown",
   "metadata": {},
   "source": [
    "Lists can be joined with addition operators:"
   ]
  },
  {
   "cell_type": "code",
   "execution_count": 15,
   "metadata": {},
   "outputs": [
    {
     "name": "stdout",
     "output_type": "stream",
     "text": [
      "['johnny', 'carmine', 'carminejr', 'rusty', 'paulie', 'sil', 'T', 'chrissy']\n",
      "<class 'list'>\n"
     ]
    }
   ],
   "source": [
    "New_York = [\"johnny\",\"carmine\",\"carminejr\",\"rusty\"]\n",
    "New_Jersey = [\"paulie\",\"sil\",\"T\",\"chrissy\"]\n",
    "the_families = New_York + New_Jersey\n",
    "print(the_families)\n",
    "print(type(the_families))"
   ]
  },
  {
   "cell_type": "markdown",
   "metadata": {},
   "source": [
    "Just like strings, Python supports forming new lists with a repeating sequence using the multiplication operator:"
   ]
  },
  {
   "cell_type": "code",
   "execution_count": 16,
   "metadata": {},
   "outputs": [
    {
     "name": "stdout",
     "output_type": "stream",
     "text": [
      "['Sil', 'Paulie', 'T', 'Sil', 'Paulie', 'T', 'Sil', 'Paulie', 'T', 'Sil', 'Paulie', 'T']\n"
     ]
    }
   ],
   "source": [
    "print([\"Sil\",\"Paulie\",\"T\"]*4)"
   ]
  },
  {
   "cell_type": "code",
   "execution_count": 19,
   "metadata": {},
   "outputs": [
    {
     "name": "stdout",
     "output_type": "stream",
     "text": [
      "['x', 'x', 'x', 'x', 'x', 'x', 'x', 'x', 'x', 'x']\n",
      "['y', 'y', 'y', 'y', 'y', 'y', 'y', 'y', 'y', 'y']\n",
      "['x', 'x', 'x', 'x', 'x', 'x', 'x', 'x', 'x', 'x', 'y', 'y', 'y', 'y', 'y', 'y', 'y', 'y', 'y', 'y']\n"
     ]
    }
   ],
   "source": [
    "x_list = ([\"x\"]*10)\n",
    "print(x_list)\n",
    "y_list = ([\"y\"]*10)\n",
    "print(y_list)\n",
    "\n",
    "big_list = x_list + y_list\n",
    "print(big_list)"
   ]
  },
  {
   "cell_type": "code",
   "execution_count": 7,
   "metadata": {},
   "outputs": [
    {
     "name": "stdout",
     "output_type": "stream",
     "text": [
      "[2, 4, 6]\n",
      "[1, 2, 3, 4, 5, 6, 10, 11, 12]\n",
      "2\n",
      "blahem\n",
      "yas\n"
     ]
    }
   ],
   "source": [
    "list = [1,2,3,4,5,6]\n",
    "list1 = [10,11,12]\n",
    "even_members = list[1::2]\n",
    "print(even_members)\n",
    "\n",
    "join = list + list1\n",
    "print(join)\n",
    "\n",
    "div = 4 // 2\n",
    "print(div)\n",
    "\n",
    "if 2 > 1:\n",
    "    print(\"blahem\")\n",
    "\n",
    "if 3 < 4 < 5:\n",
    "    print(\"yas\")"
   ]
  },
  {
   "cell_type": "code",
   "execution_count": 8,
   "metadata": {},
   "outputs": [
    {
     "name": "stdout",
     "output_type": "stream",
     "text": [
      "blahem\n"
     ]
    }
   ],
   "source": [
    "a = 121\n",
    "b = 2\n",
    "\n",
    "if a and b:\n",
    "    print(\"blahem\")"
   ]
  },
  {
   "cell_type": "code",
   "execution_count": 9,
   "metadata": {},
   "outputs": [
    {
     "name": "stdout",
     "output_type": "stream",
     "text": [
      "blahem\n"
     ]
    }
   ],
   "source": [
    "if a not in list:\n",
    "    print(\"blahem\")"
   ]
  }
 ],
 "metadata": {
  "kernelspec": {
   "display_name": "Python 3",
   "language": "python",
   "name": "python3"
  },
  "language_info": {
   "codemirror_mode": {
    "name": "ipython",
    "version": 3
   },
   "file_extension": ".py",
   "mimetype": "text/x-python",
   "name": "python",
   "nbconvert_exporter": "python",
   "pygments_lexer": "ipython3",
   "version": "3.8.5"
  }
 },
 "nbformat": 4,
 "nbformat_minor": 4
}
